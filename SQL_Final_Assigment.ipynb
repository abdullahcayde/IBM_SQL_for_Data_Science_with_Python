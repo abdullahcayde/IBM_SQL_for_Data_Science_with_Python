{
 "cells": [
  {
   "cell_type": "code",
   "execution_count": 4,
   "id": "8d7b1662-5aff-4889-8684-5904658260f4",
   "metadata": {},
   "outputs": [],
   "source": [
    "import pandas as pd \n",
    "import sqlite3\n",
    "\n",
    "con = sqlite3.connect(\"FINALDB.db\")\n",
    "cur = con.cursor()"
   ]
  },
  {
   "cell_type": "code",
   "execution_count": 5,
   "id": "9d0490f8-ddce-42c3-852c-f0b3b8f42174",
   "metadata": {},
   "outputs": [],
   "source": [
    "pd.set_option('display.max_columns', None)"
   ]
  },
  {
   "cell_type": "code",
   "execution_count": 6,
   "id": "4bc1064f-b728-41b8-b9af-671703f8cb46",
   "metadata": {},
   "outputs": [
    {
     "data": {
      "text/plain": [
       "'\\n%%!\\npip install --trusted-host pypi.org ipython-sql\\n'"
      ]
     },
     "execution_count": 6,
     "metadata": {},
     "output_type": "execute_result"
    }
   ],
   "source": [
    "'''\n",
    "%%!\n",
    "pip install --trusted-host pypi.org ipython-sql\n",
    "'''"
   ]
  },
  {
   "cell_type": "code",
   "execution_count": 7,
   "id": "2053c117-430c-48b4-9a7e-b921b875b8ff",
   "metadata": {},
   "outputs": [
    {
     "name": "stdout",
     "output_type": "stream",
     "text": [
      "The sql extension is already loaded. To reload it, use:\n",
      "  %reload_ext sql\n"
     ]
    }
   ],
   "source": [
    "%load_ext sql"
   ]
  },
  {
   "cell_type": "code",
   "execution_count": 8,
   "id": "6319b7e8-5a2b-4dd2-a447-a533569a15e9",
   "metadata": {},
   "outputs": [],
   "source": [
    "%sql sqlite:///FINALDB.db"
   ]
  },
  {
   "cell_type": "code",
   "execution_count": 9,
   "id": "ee02600f-46a0-4765-a4a6-c9227c301880",
   "metadata": {},
   "outputs": [
    {
     "data": {
      "text/plain": [
       "'/Users/macbook/Desktop/projects/Github_Repositories/IBM9_SQL'"
      ]
     },
     "execution_count": 9,
     "metadata": {},
     "output_type": "execute_result"
    }
   ],
   "source": [
    "pwd"
   ]
  },
  {
   "cell_type": "code",
   "execution_count": 10,
   "id": "e007b0f1-e6b1-473b-83a5-cead05916c1a",
   "metadata": {},
   "outputs": [
    {
     "data": {
      "text/plain": [
       "566"
      ]
     },
     "execution_count": 10,
     "metadata": {},
     "output_type": "execute_result"
    }
   ],
   "source": [
    "df = pd.read_csv(\"/Users/macbook/Desktop/projects/Github_Repositories/IBM9_SQL/ChicagoCensusData.csv\")\n",
    "df.to_sql(\"CENSUS\", con, if_exists='replace', index=False,method=\"multi\")\n",
    "\n",
    "df = pd.read_csv(\"/Users/macbook/Desktop/projects/Github_Repositories/IBM9_SQL/ChicagoCrimeData.csv\")\n",
    "df.to_sql(\"CRIME\", con, if_exists='replace', index=False, method=\"multi\")\n",
    "\n",
    "df = pd.read_csv(\"/Users/macbook/Desktop/projects/Github_Repositories/IBM9_SQL/ChicagoPublicSchools.csv\")\n",
    "df.to_sql(\"SCHOOLS\", con, if_exists='replace', index=False, method=\"multi\")"
   ]
  },
  {
   "cell_type": "code",
   "execution_count": 11,
   "id": "3acb2bb6-63e9-4146-a6c0-457c3dbcc050",
   "metadata": {},
   "outputs": [
    {
     "name": "stdout",
     "output_type": "stream",
     "text": [
      " * sqlite:///FINALDB.db\n",
      "Done.\n"
     ]
    },
    {
     "data": {
      "text/html": [
       "<table>\n",
       "    <tr>\n",
       "        <th>COMMUNITY_AREA_NUMBER</th>\n",
       "        <th>COMMUNITY_AREA_NAME</th>\n",
       "        <th>PERCENT_OF_HOUSING_CROWDED</th>\n",
       "        <th>PERCENT_HOUSEHOLDS_BELOW_POVERTY</th>\n",
       "        <th>PERCENT_AGED_16__UNEMPLOYED</th>\n",
       "        <th>PERCENT_AGED_25__WITHOUT_HIGH_SCHOOL_DIPLOMA</th>\n",
       "        <th>PERCENT_AGED_UNDER_18_OR_OVER_64</th>\n",
       "        <th>PER_CAPITA_INCOME</th>\n",
       "        <th>HARDSHIP_INDEX</th>\n",
       "    </tr>\n",
       "    <tr>\n",
       "        <td>1.0</td>\n",
       "        <td>Rogers Park</td>\n",
       "        <td>7.7</td>\n",
       "        <td>23.6</td>\n",
       "        <td>8.7</td>\n",
       "        <td>18.2</td>\n",
       "        <td>27.5</td>\n",
       "        <td>23939</td>\n",
       "        <td>39.0</td>\n",
       "    </tr>\n",
       "</table>"
      ],
      "text/plain": [
       "[(1.0, 'Rogers Park', 7.7, 23.6, 8.7, 18.2, 27.5, 23939, 39.0)]"
      ]
     },
     "execution_count": 11,
     "metadata": {},
     "output_type": "execute_result"
    }
   ],
   "source": [
    "%%sql\n",
    "SELECT * FROM CENSUS LIMIT 1"
   ]
  },
  {
   "cell_type": "code",
   "execution_count": 12,
   "id": "472875c4-505e-4993-9304-e82dba47398f",
   "metadata": {},
   "outputs": [
    {
     "name": "stdout",
     "output_type": "stream",
     "text": [
      " * sqlite:///FINALDB.db\n",
      "Done.\n"
     ]
    },
    {
     "data": {
      "text/html": [
       "<table>\n",
       "    <tr>\n",
       "        <th>ID</th>\n",
       "        <th>CASE_NUMBER</th>\n",
       "        <th>DATE</th>\n",
       "        <th>BLOCK</th>\n",
       "        <th>IUCR</th>\n",
       "        <th>PRIMARY_TYPE</th>\n",
       "        <th>DESCRIPTION</th>\n",
       "        <th>LOCATION_DESCRIPTION</th>\n",
       "        <th>ARREST</th>\n",
       "        <th>DOMESTIC</th>\n",
       "        <th>BEAT</th>\n",
       "        <th>DISTRICT</th>\n",
       "        <th>WARD</th>\n",
       "        <th>COMMUNITY_AREA_NUMBER</th>\n",
       "        <th>FBICODE</th>\n",
       "        <th>X_COORDINATE</th>\n",
       "        <th>Y_COORDINATE</th>\n",
       "        <th>YEAR</th>\n",
       "        <th>LATITUDE</th>\n",
       "        <th>LONGITUDE</th>\n",
       "        <th>LOCATION</th>\n",
       "    </tr>\n",
       "    <tr>\n",
       "        <td>3512276</td>\n",
       "        <td>HK587712</td>\n",
       "        <td>2004-08-28</td>\n",
       "        <td>047XX S KEDZIE AVE</td>\n",
       "        <td>890</td>\n",
       "        <td>THEFT</td>\n",
       "        <td>FROM BUILDING</td>\n",
       "        <td>SMALL RETAIL STORE</td>\n",
       "        <td>0</td>\n",
       "        <td>0</td>\n",
       "        <td>911</td>\n",
       "        <td>9</td>\n",
       "        <td>14.0</td>\n",
       "        <td>58.0</td>\n",
       "        <td>6</td>\n",
       "        <td>1155838.0</td>\n",
       "        <td>1873050.0</td>\n",
       "        <td>2004</td>\n",
       "        <td>41.8074405</td>\n",
       "        <td>-87.70395585</td>\n",
       "        <td>(41.8074405, -87.703955849)</td>\n",
       "    </tr>\n",
       "</table>"
      ],
      "text/plain": [
       "[(3512276, 'HK587712', '2004-08-28', '047XX S KEDZIE AVE', '890', 'THEFT', 'FROM BUILDING', 'SMALL RETAIL STORE', 0, 0, 911, 9, 14.0, 58.0, '6', 1155838.0, 1873050.0, 2004, 41.8074405, -87.70395585, '(41.8074405, -87.703955849)')]"
      ]
     },
     "execution_count": 12,
     "metadata": {},
     "output_type": "execute_result"
    }
   ],
   "source": [
    "%sql SELECT * FROM CRIME LIMIT 1"
   ]
  },
  {
   "cell_type": "code",
   "execution_count": 13,
   "id": "a1d472d3-6dd4-434c-8539-0fe1644fb0aa",
   "metadata": {},
   "outputs": [
    {
     "name": "stdout",
     "output_type": "stream",
     "text": [
      " * sqlite:///FINALDB.db\n",
      "Done.\n"
     ]
    },
    {
     "data": {
      "text/html": [
       "<table>\n",
       "    <tr>\n",
       "        <th>School_ID</th>\n",
       "        <th>NAME_OF_SCHOOL</th>\n",
       "        <th>Elementary, Middle, or High School</th>\n",
       "        <th>Street_Address</th>\n",
       "        <th>City</th>\n",
       "        <th>State</th>\n",
       "        <th>ZIP_Code</th>\n",
       "        <th>Phone_Number</th>\n",
       "        <th>Link</th>\n",
       "        <th>Network_Manager</th>\n",
       "        <th>Collaborative_Name</th>\n",
       "        <th>Adequate_Yearly_Progress_Made_</th>\n",
       "        <th>Track_Schedule</th>\n",
       "        <th>CPS_Performance_Policy_Status</th>\n",
       "        <th>CPS_Performance_Policy_Level</th>\n",
       "        <th>HEALTHY_SCHOOL_CERTIFIED</th>\n",
       "        <th>Safety_Icon</th>\n",
       "        <th>SAFETY_SCORE</th>\n",
       "        <th>Family_Involvement_Icon</th>\n",
       "        <th>Family_Involvement_Score</th>\n",
       "        <th>Environment_Icon</th>\n",
       "        <th>Environment_Score</th>\n",
       "        <th>Instruction_Icon</th>\n",
       "        <th>Instruction_Score</th>\n",
       "        <th>Leaders_Icon</th>\n",
       "        <th>Leaders_Score</th>\n",
       "        <th>Teachers_Icon</th>\n",
       "        <th>Teachers_Score</th>\n",
       "        <th>Parent_Engagement_Icon</th>\n",
       "        <th>Parent_Engagement_Score</th>\n",
       "        <th>Parent_Environment_Icon</th>\n",
       "        <th>Parent_Environment_Score</th>\n",
       "        <th>AVERAGE_STUDENT_ATTENDANCE</th>\n",
       "        <th>Rate_of_Misconducts__per_100_students_</th>\n",
       "        <th>Average_Teacher_Attendance</th>\n",
       "        <th>Individualized_Education_Program_Compliance_Rate</th>\n",
       "        <th>Pk_2_Literacy__</th>\n",
       "        <th>Pk_2_Math__</th>\n",
       "        <th>Gr3_5_Grade_Level_Math__</th>\n",
       "        <th>Gr3_5_Grade_Level_Read__</th>\n",
       "        <th>Gr3_5_Keep_Pace_Read__</th>\n",
       "        <th>Gr3_5_Keep_Pace_Math__</th>\n",
       "        <th>Gr6_8_Grade_Level_Math__</th>\n",
       "        <th>Gr6_8_Grade_Level_Read__</th>\n",
       "        <th>Gr6_8_Keep_Pace_Math_</th>\n",
       "        <th>Gr6_8_Keep_Pace_Read__</th>\n",
       "        <th>Gr_8_Explore_Math__</th>\n",
       "        <th>Gr_8_Explore_Read__</th>\n",
       "        <th>ISAT_Exceeding_Math__</th>\n",
       "        <th>ISAT_Exceeding_Reading__</th>\n",
       "        <th>ISAT_Value_Add_Math</th>\n",
       "        <th>ISAT_Value_Add_Read</th>\n",
       "        <th>ISAT_Value_Add_Color_Math</th>\n",
       "        <th>ISAT_Value_Add_Color_Read</th>\n",
       "        <th>Students_Taking__Algebra__</th>\n",
       "        <th>Students_Passing__Algebra__</th>\n",
       "        <th>9th Grade EXPLORE (2009)</th>\n",
       "        <th>9th Grade EXPLORE (2010)</th>\n",
       "        <th>10th Grade PLAN (2009)</th>\n",
       "        <th>10th Grade PLAN (2010)</th>\n",
       "        <th>Net_Change_EXPLORE_and_PLAN</th>\n",
       "        <th>11th Grade Average ACT (2011)</th>\n",
       "        <th>Net_Change_PLAN_and_ACT</th>\n",
       "        <th>College_Eligibility__</th>\n",
       "        <th>Graduation_Rate__</th>\n",
       "        <th>College_Enrollment_Rate__</th>\n",
       "        <th>COLLEGE_ENROLLMENT</th>\n",
       "        <th>General_Services_Route</th>\n",
       "        <th>Freshman_on_Track_Rate__</th>\n",
       "        <th>X_COORDINATE</th>\n",
       "        <th>Y_COORDINATE</th>\n",
       "        <th>Latitude</th>\n",
       "        <th>Longitude</th>\n",
       "        <th>COMMUNITY_AREA_NUMBER</th>\n",
       "        <th>COMMUNITY_AREA_NAME</th>\n",
       "        <th>Ward</th>\n",
       "        <th>Police_District</th>\n",
       "        <th>Location</th>\n",
       "    </tr>\n",
       "    <tr>\n",
       "        <td>610038</td>\n",
       "        <td>Abraham Lincoln Elementary School</td>\n",
       "        <td>ES</td>\n",
       "        <td>615 W Kemper Pl</td>\n",
       "        <td>Chicago</td>\n",
       "        <td>IL</td>\n",
       "        <td>60614</td>\n",
       "        <td>(773) 534-5720</td>\n",
       "        <td>http://schoolreports.cps.edu/SchoolProgressReport_Eng/Spring2011Eng_610038.pdf</td>\n",
       "        <td>Fullerton Elementary Network</td>\n",
       "        <td>NORTH-NORTHWEST SIDE COLLABORATIVE</td>\n",
       "        <td>No</td>\n",
       "        <td>Standard</td>\n",
       "        <td>Not on Probation</td>\n",
       "        <td>Level 1</td>\n",
       "        <td>Yes</td>\n",
       "        <td>Very Strong</td>\n",
       "        <td>99.0</td>\n",
       "        <td>Very Strong</td>\n",
       "        <td>99</td>\n",
       "        <td>Strong</td>\n",
       "        <td>74.0</td>\n",
       "        <td>Strong</td>\n",
       "        <td>66.0</td>\n",
       "        <td>Weak</td>\n",
       "        <td>65</td>\n",
       "        <td>Strong</td>\n",
       "        <td>70</td>\n",
       "        <td>Strong</td>\n",
       "        <td>56</td>\n",
       "        <td>Average</td>\n",
       "        <td>47</td>\n",
       "        <td>96.00%</td>\n",
       "        <td>2.0</td>\n",
       "        <td>96.40%</td>\n",
       "        <td>95.80%</td>\n",
       "        <td>80.1</td>\n",
       "        <td>43.3</td>\n",
       "        <td>89.6</td>\n",
       "        <td>84.9</td>\n",
       "        <td>60.7</td>\n",
       "        <td>62.6</td>\n",
       "        <td>81.9</td>\n",
       "        <td>85.2</td>\n",
       "        <td>52</td>\n",
       "        <td>62.4</td>\n",
       "        <td>66.3</td>\n",
       "        <td>77.9</td>\n",
       "        <td>69.7</td>\n",
       "        <td>64.4</td>\n",
       "        <td>0.2</td>\n",
       "        <td>0.9</td>\n",
       "        <td>Yellow</td>\n",
       "        <td>Green</td>\n",
       "        <td>67.1</td>\n",
       "        <td>54.5</td>\n",
       "        <td>NDA</td>\n",
       "        <td>NDA</td>\n",
       "        <td>NDA</td>\n",
       "        <td>NDA</td>\n",
       "        <td>NDA</td>\n",
       "        <td>NDA</td>\n",
       "        <td>NDA</td>\n",
       "        <td>NDA</td>\n",
       "        <td>NDA</td>\n",
       "        <td>NDA</td>\n",
       "        <td>813</td>\n",
       "        <td>33</td>\n",
       "        <td>NDA</td>\n",
       "        <td>1171699.458</td>\n",
       "        <td>1915829.428</td>\n",
       "        <td>41.92449696</td>\n",
       "        <td>-87.64452163</td>\n",
       "        <td>7</td>\n",
       "        <td>LINCOLN PARK</td>\n",
       "        <td>43</td>\n",
       "        <td>18</td>\n",
       "        <td>(41.92449696, -87.64452163)</td>\n",
       "    </tr>\n",
       "</table>"
      ],
      "text/plain": [
       "[(610038, 'Abraham Lincoln Elementary School', 'ES', '615 W Kemper Pl', 'Chicago', 'IL', 60614, '(773) 534-5720', 'http://schoolreports.cps.edu/SchoolProgressReport_Eng/Spring2011Eng_610038.pdf', 'Fullerton Elementary Network', 'NORTH-NORTHWEST SIDE COLLABORATIVE', 'No', 'Standard', 'Not on Probation', 'Level 1', 'Yes', 'Very Strong', 99.0, 'Very Strong', '99', 'Strong', 74.0, 'Strong', 66.0, 'Weak', '65', 'Strong', '70', 'Strong', '56', 'Average', '47', '96.00%', 2.0, '96.40%', '95.80%', '80.1', '43.3', '89.6', '84.9', '60.7', '62.6', '81.9', '85.2', '52', '62.4', '66.3', '77.9', 69.7, 64.4, 0.2, 0.9, 'Yellow', 'Green', '67.1', '54.5', 'NDA', 'NDA', 'NDA', 'NDA', 'NDA', 'NDA', 'NDA', 'NDA', 'NDA', 'NDA', 813, 33, 'NDA', 1171699.458, 1915829.428, 41.92449696, -87.64452163, 7, 'LINCOLN PARK', 43, 18, '(41.92449696, -87.64452163)')]"
      ]
     },
     "execution_count": 13,
     "metadata": {},
     "output_type": "execute_result"
    }
   ],
   "source": [
    "%sql SELECT * FROM SCHOOLS LIMIT 1"
   ]
  },
  {
   "cell_type": "markdown",
   "id": "599cfc46-7acc-4953-9efd-2d3e209afb70",
   "metadata": {
    "tags": []
   },
   "source": [
    "# Problem 1: Find the total number of crimes recorded in the CRIME table"
   ]
  },
  {
   "cell_type": "code",
   "execution_count": 14,
   "id": "b5de519a-96bd-4a55-9094-f1df4c848d87",
   "metadata": {},
   "outputs": [
    {
     "name": "stdout",
     "output_type": "stream",
     "text": [
      " * sqlite:///FINALDB.db\n",
      "Done.\n"
     ]
    },
    {
     "data": {
      "text/html": [
       "<table>\n",
       "    <tr>\n",
       "        <th>COUNT(*)</th>\n",
       "    </tr>\n",
       "    <tr>\n",
       "        <td>533</td>\n",
       "    </tr>\n",
       "</table>"
      ],
      "text/plain": [
       "[(533,)]"
      ]
     },
     "execution_count": 14,
     "metadata": {},
     "output_type": "execute_result"
    }
   ],
   "source": [
    "%sql SELECT COUNT(*) FROM CRIME"
   ]
  },
  {
   "cell_type": "markdown",
   "id": "11df38a1-71b5-4a8d-bd28-c4beafb5e4f0",
   "metadata": {},
   "source": [
    "# Problem 2: List community areas with per capita income less than 11000."
   ]
  },
  {
   "cell_type": "code",
   "execution_count": 15,
   "id": "43b5d6c6-5416-40f6-aa91-5e12d9f1ce4f",
   "metadata": {},
   "outputs": [
    {
     "name": "stdout",
     "output_type": "stream",
     "text": [
      " * sqlite:///FINALDB.db\n",
      "Done.\n"
     ]
    },
    {
     "data": {
      "text/html": [
       "<table>\n",
       "    <tr>\n",
       "        <th>COMMUNITY_AREA_NAME</th>\n",
       "    </tr>\n",
       "    <tr>\n",
       "        <td>West Garfield Park</td>\n",
       "    </tr>\n",
       "    <tr>\n",
       "        <td>South Lawndale</td>\n",
       "    </tr>\n",
       "    <tr>\n",
       "        <td>Fuller Park</td>\n",
       "    </tr>\n",
       "    <tr>\n",
       "        <td>Riverdale</td>\n",
       "    </tr>\n",
       "</table>"
      ],
      "text/plain": [
       "[('West Garfield Park',),\n",
       " ('South Lawndale',),\n",
       " ('Fuller Park',),\n",
       " ('Riverdale',)]"
      ]
     },
     "execution_count": 15,
     "metadata": {},
     "output_type": "execute_result"
    }
   ],
   "source": [
    "%sql SELECT COMMUNITY_AREA_NAME FROM CENSUS WHERE PER_CAPITA_INCOME < 11000"
   ]
  },
  {
   "cell_type": "markdown",
   "id": "f863f8ac-783b-41dc-9759-568d660f4161",
   "metadata": {},
   "source": [
    "# Problem 3: List all case numbers for crimes involving minors?"
   ]
  },
  {
   "cell_type": "code",
   "execution_count": 20,
   "id": "6f0d95aa-7d74-490c-9ac2-9203c7c57ea7",
   "metadata": {},
   "outputs": [
    {
     "name": "stdout",
     "output_type": "stream",
     "text": [
      " * sqlite:///FINALDB.db\n",
      "Done.\n"
     ]
    },
    {
     "data": {
      "text/html": [
       "<table>\n",
       "    <tr>\n",
       "        <th>ID</th>\n",
       "        <th>CASE_NUMBER</th>\n",
       "        <th>DATE</th>\n",
       "        <th>BLOCK</th>\n",
       "        <th>IUCR</th>\n",
       "        <th>PRIMARY_TYPE</th>\n",
       "        <th>DESCRIPTION</th>\n",
       "        <th>LOCATION_DESCRIPTION</th>\n",
       "        <th>ARREST</th>\n",
       "        <th>DOMESTIC</th>\n",
       "        <th>BEAT</th>\n",
       "        <th>DISTRICT</th>\n",
       "        <th>WARD</th>\n",
       "        <th>COMMUNITY_AREA_NUMBER</th>\n",
       "        <th>FBICODE</th>\n",
       "        <th>X_COORDINATE</th>\n",
       "        <th>Y_COORDINATE</th>\n",
       "        <th>YEAR</th>\n",
       "        <th>LATITUDE</th>\n",
       "        <th>LONGITUDE</th>\n",
       "        <th>LOCATION</th>\n",
       "    </tr>\n",
       "    <tr>\n",
       "        <td>3987219</td>\n",
       "        <td>HL266884</td>\n",
       "        <td>2005-03-31</td>\n",
       "        <td>024XX N CLARK ST</td>\n",
       "        <td>2210</td>\n",
       "        <td>LIQUOR LAW VIOLATION</td>\n",
       "        <td>SELL/GIVE/DEL LIQUOR TO MINOR</td>\n",
       "        <td>CONVENIENCE STORE</td>\n",
       "        <td>1</td>\n",
       "        <td>0</td>\n",
       "        <td>2333</td>\n",
       "        <td>19</td>\n",
       "        <td>43.0</td>\n",
       "        <td>7.0</td>\n",
       "        <td>22</td>\n",
       "        <td>1172680.0</td>\n",
       "        <td>1916483.0</td>\n",
       "        <td>2005</td>\n",
       "        <td>41.92626872</td>\n",
       "        <td>-87.64089934</td>\n",
       "        <td>(41.926268719, -87.640899336)</td>\n",
       "    </tr>\n",
       "    <tr>\n",
       "        <td>3266814</td>\n",
       "        <td>HK238408</td>\n",
       "        <td>2004-03-13</td>\n",
       "        <td>093XX S STONY ISLAND AVE</td>\n",
       "        <td>2230</td>\n",
       "        <td>LIQUOR LAW VIOLATION</td>\n",
       "        <td>ILLEGAL CONSUMPTION BY MINOR</td>\n",
       "        <td>ALLEY</td>\n",
       "        <td>1</td>\n",
       "        <td>0</td>\n",
       "        <td>413</td>\n",
       "        <td>4</td>\n",
       "        <td>8.0</td>\n",
       "        <td>48.0</td>\n",
       "        <td>22</td>\n",
       "        <td>1188539.0</td>\n",
       "        <td>1843379.0</td>\n",
       "        <td>2004</td>\n",
       "        <td>41.72530099</td>\n",
       "        <td>-87.58496589</td>\n",
       "        <td>(41.72530099, -87.584965887)</td>\n",
       "    </tr>\n",
       "</table>"
      ],
      "text/plain": [
       "[(3987219, 'HL266884', '2005-03-31', '024XX N CLARK ST', '2210', 'LIQUOR LAW VIOLATION', 'SELL/GIVE/DEL LIQUOR TO MINOR', 'CONVENIENCE STORE', 1, 0, 2333, 19, 43.0, 7.0, '22', 1172680.0, 1916483.0, 2005, 41.92626872, -87.64089934, '(41.926268719, -87.640899336)'),\n",
       " (3266814, 'HK238408', '2004-03-13', '093XX S STONY ISLAND AVE', '2230', 'LIQUOR LAW VIOLATION', 'ILLEGAL CONSUMPTION BY MINOR', 'ALLEY', 1, 0, 413, 4, 8.0, 48.0, '22', 1188539.0, 1843379.0, 2004, 41.72530099, -87.58496589, '(41.72530099, -87.584965887)')]"
      ]
     },
     "execution_count": 20,
     "metadata": {},
     "output_type": "execute_result"
    }
   ],
   "source": [
    "%sql SELECT * FROM CRIME WHERE DESCRIPTION LIKE '%MINOR%';"
   ]
  },
  {
   "cell_type": "markdown",
   "id": "d932b879-420c-4c99-a337-fd31f11fb7ee",
   "metadata": {},
   "source": [
    "# Problem 4: List all kidnapping crimes involving a child?(children are not considered minors for the purposes of crime analysis)"
   ]
  },
  {
   "cell_type": "code",
   "execution_count": 21,
   "id": "79ddac6b-b518-4b66-b4dc-3cabb1ad16ed",
   "metadata": {},
   "outputs": [
    {
     "name": "stdout",
     "output_type": "stream",
     "text": [
      " * sqlite:///FINALDB.db\n",
      "Done.\n"
     ]
    },
    {
     "data": {
      "text/html": [
       "<table>\n",
       "    <tr>\n",
       "        <th>ID</th>\n",
       "        <th>CASE_NUMBER</th>\n",
       "        <th>DATE</th>\n",
       "        <th>BLOCK</th>\n",
       "        <th>IUCR</th>\n",
       "        <th>PRIMARY_TYPE</th>\n",
       "        <th>DESCRIPTION</th>\n",
       "        <th>LOCATION_DESCRIPTION</th>\n",
       "        <th>ARREST</th>\n",
       "        <th>DOMESTIC</th>\n",
       "        <th>BEAT</th>\n",
       "        <th>DISTRICT</th>\n",
       "        <th>WARD</th>\n",
       "        <th>COMMUNITY_AREA_NUMBER</th>\n",
       "        <th>FBICODE</th>\n",
       "        <th>X_COORDINATE</th>\n",
       "        <th>Y_COORDINATE</th>\n",
       "        <th>YEAR</th>\n",
       "        <th>LATITUDE</th>\n",
       "        <th>LONGITUDE</th>\n",
       "        <th>LOCATION</th>\n",
       "    </tr>\n",
       "    <tr>\n",
       "        <td>5276766</td>\n",
       "        <td>HN144152</td>\n",
       "        <td>2007-01-26</td>\n",
       "        <td>050XX W VAN BUREN ST</td>\n",
       "        <td>1792</td>\n",
       "        <td>KIDNAPPING</td>\n",
       "        <td>CHILD ABDUCTION/STRANGER</td>\n",
       "        <td>STREET</td>\n",
       "        <td>0</td>\n",
       "        <td>0</td>\n",
       "        <td>1533</td>\n",
       "        <td>15</td>\n",
       "        <td>29.0</td>\n",
       "        <td>25.0</td>\n",
       "        <td>20</td>\n",
       "        <td>1143050.0</td>\n",
       "        <td>1897546.0</td>\n",
       "        <td>2007</td>\n",
       "        <td>41.87490841</td>\n",
       "        <td>-87.75024931</td>\n",
       "        <td>(41.874908413, -87.750249307)</td>\n",
       "    </tr>\n",
       "</table>"
      ],
      "text/plain": [
       "[(5276766, 'HN144152', '2007-01-26', '050XX W VAN BUREN ST', '1792', 'KIDNAPPING', 'CHILD ABDUCTION/STRANGER', 'STREET', 0, 0, 1533, 15, 29.0, 25.0, '20', 1143050.0, 1897546.0, 2007, 41.87490841, -87.75024931, '(41.874908413, -87.750249307)')]"
      ]
     },
     "execution_count": 21,
     "metadata": {},
     "output_type": "execute_result"
    }
   ],
   "source": [
    "%sql SELECT * FROM CRIME WHERE PRIMARY_TYPE LIKE '%KIDNAPPING%';"
   ]
  },
  {
   "cell_type": "markdown",
   "id": "3c342da3-29d4-4148-8ed0-055af1e48aff",
   "metadata": {},
   "source": [
    "# Problem 5: What kind of crimes were recorded at schools?"
   ]
  },
  {
   "cell_type": "code",
   "execution_count": 23,
   "id": "cd5e5084-9394-4238-b776-0b10da484874",
   "metadata": {},
   "outputs": [
    {
     "name": "stdout",
     "output_type": "stream",
     "text": [
      " * sqlite:///FINALDB.db\n",
      "Done.\n"
     ]
    },
    {
     "data": {
      "text/html": [
       "<table>\n",
       "    <tr>\n",
       "        <th>LOCATION_DESCRIPTION</th>\n",
       "    </tr>\n",
       "    <tr>\n",
       "        <td>SMALL RETAIL STORE</td>\n",
       "    </tr>\n",
       "    <tr>\n",
       "        <td>OTHER</td>\n",
       "    </tr>\n",
       "    <tr>\n",
       "        <td>NURSING HOME/RETIREMENT HOME</td>\n",
       "    </tr>\n",
       "    <tr>\n",
       "        <td>RESIDENCE</td>\n",
       "    </tr>\n",
       "    <tr>\n",
       "        <td>ALLEY</td>\n",
       "    </tr>\n",
       "    <tr>\n",
       "        <td>PARKING LOT/GARAGE(NON.RESID.)</td>\n",
       "    </tr>\n",
       "    <tr>\n",
       "        <td>STREET</td>\n",
       "    </tr>\n",
       "    <tr>\n",
       "        <td>GROCERY FOOD STORE</td>\n",
       "    </tr>\n",
       "    <tr>\n",
       "        <td>DEPARTMENT STORE</td>\n",
       "    </tr>\n",
       "    <tr>\n",
       "        <td>BAR OR TAVERN</td>\n",
       "    </tr>\n",
       "    <tr>\n",
       "        <td>RESIDENTIAL YARD (FRONT/BACK)</td>\n",
       "    </tr>\n",
       "    <tr>\n",
       "        <td>RESIDENCE PORCH/HALLWAY</td>\n",
       "    </tr>\n",
       "    <tr>\n",
       "        <td>CTA PLATFORM</td>\n",
       "    </tr>\n",
       "    <tr>\n",
       "        <td>VACANT LOT/LAND</td>\n",
       "    </tr>\n",
       "    <tr>\n",
       "        <td>SIDEWALK</td>\n",
       "    </tr>\n",
       "    <tr>\n",
       "        <td>ATHLETIC CLUB</td>\n",
       "    </tr>\n",
       "    <tr>\n",
       "        <td>AIRPORT/AIRCRAFT</td>\n",
       "    </tr>\n",
       "    <tr>\n",
       "        <td>APARTMENT</td>\n",
       "    </tr>\n",
       "    <tr>\n",
       "        <td>MOVIE HOUSE/THEATER</td>\n",
       "    </tr>\n",
       "    <tr>\n",
       "        <td>VEHICLE NON-COMMERCIAL</td>\n",
       "    </tr>\n",
       "    <tr>\n",
       "        <td>RESTAURANT</td>\n",
       "    </tr>\n",
       "    <tr>\n",
       "        <td>RESIDENCE-GARAGE</td>\n",
       "    </tr>\n",
       "    <tr>\n",
       "        <td>COMMERCIAL / BUSINESS OFFICE</td>\n",
       "    </tr>\n",
       "    <tr>\n",
       "        <td>TAVERN/LIQUOR STORE</td>\n",
       "    </tr>\n",
       "    <tr>\n",
       "        <td>CONSTRUCTION SITE</td>\n",
       "    </tr>\n",
       "    <tr>\n",
       "        <td>GAS STATION</td>\n",
       "    </tr>\n",
       "    <tr>\n",
       "        <td>DRUG STORE</td>\n",
       "    </tr>\n",
       "    <tr>\n",
       "        <td>CTA BUS</td>\n",
       "    </tr>\n",
       "    <tr>\n",
       "        <td>SCHOOL, PUBLIC, GROUNDS</td>\n",
       "    </tr>\n",
       "    <tr>\n",
       "        <td>SCHOOL, PUBLIC, BUILDING</td>\n",
       "    </tr>\n",
       "    <tr>\n",
       "        <td>CHURCH/SYNAGOGUE/PLACE OF WORSHIP</td>\n",
       "    </tr>\n",
       "    <tr>\n",
       "        <td>OTHER COMMERCIAL TRANSPORTATION</td>\n",
       "    </tr>\n",
       "    <tr>\n",
       "        <td>CHA APARTMENT</td>\n",
       "    </tr>\n",
       "    <tr>\n",
       "        <td>WAREHOUSE</td>\n",
       "    </tr>\n",
       "    <tr>\n",
       "        <td>POLICE FACILITY/VEH PARKING LOT</td>\n",
       "    </tr>\n",
       "    <tr>\n",
       "        <td>HOSPITAL BUILDING/GROUNDS</td>\n",
       "    </tr>\n",
       "    <tr>\n",
       "        <td>FACTORY/MANUFACTURING BUILDING</td>\n",
       "    </tr>\n",
       "    <tr>\n",
       "        <td>CLEANING STORE</td>\n",
       "    </tr>\n",
       "    <tr>\n",
       "        <td>CTA TRAIN</td>\n",
       "    </tr>\n",
       "    <tr>\n",
       "        <td>BANK</td>\n",
       "    </tr>\n",
       "    <tr>\n",
       "        <td>CHA PARKING LOT/GROUNDS</td>\n",
       "    </tr>\n",
       "    <tr>\n",
       "        <td>LIBRARY</td>\n",
       "    </tr>\n",
       "    <tr>\n",
       "        <td>CHA HALLWAY/STAIRWELL/ELEVATOR</td>\n",
       "    </tr>\n",
       "    <tr>\n",
       "        <td>COLLEGE/UNIVERSITY GROUNDS</td>\n",
       "    </tr>\n",
       "    <tr>\n",
       "        <td>SCHOOL, PRIVATE, BUILDING</td>\n",
       "    </tr>\n",
       "    <tr>\n",
       "        <td>CONVENIENCE STORE</td>\n",
       "    </tr>\n",
       "    <tr>\n",
       "        <td>HOUSE</td>\n",
       "    </tr>\n",
       "    <tr>\n",
       "        <td>GOVERNMENT BUILDING/PROPERTY</td>\n",
       "    </tr>\n",
       "</table>"
      ],
      "text/plain": [
       "[('SMALL RETAIL STORE',),\n",
       " ('OTHER',),\n",
       " ('NURSING HOME/RETIREMENT HOME',),\n",
       " ('RESIDENCE',),\n",
       " ('ALLEY',),\n",
       " ('PARKING LOT/GARAGE(NON.RESID.)',),\n",
       " ('STREET',),\n",
       " ('GROCERY FOOD STORE',),\n",
       " ('DEPARTMENT STORE',),\n",
       " ('BAR OR TAVERN',),\n",
       " ('RESIDENTIAL YARD (FRONT/BACK)',),\n",
       " ('RESIDENCE PORCH/HALLWAY',),\n",
       " ('CTA PLATFORM',),\n",
       " ('VACANT LOT/LAND',),\n",
       " ('SIDEWALK',),\n",
       " ('ATHLETIC CLUB',),\n",
       " ('AIRPORT/AIRCRAFT',),\n",
       " ('APARTMENT',),\n",
       " ('MOVIE HOUSE/THEATER',),\n",
       " ('VEHICLE NON-COMMERCIAL',),\n",
       " ('RESTAURANT',),\n",
       " ('RESIDENCE-GARAGE',),\n",
       " ('COMMERCIAL / BUSINESS OFFICE',),\n",
       " ('TAVERN/LIQUOR STORE',),\n",
       " ('CONSTRUCTION SITE',),\n",
       " ('GAS STATION',),\n",
       " ('DRUG STORE',),\n",
       " ('CTA BUS',),\n",
       " ('SCHOOL, PUBLIC, GROUNDS',),\n",
       " ('SCHOOL, PUBLIC, BUILDING',),\n",
       " ('CHURCH/SYNAGOGUE/PLACE OF WORSHIP',),\n",
       " ('OTHER COMMERCIAL TRANSPORTATION',),\n",
       " ('CHA APARTMENT',),\n",
       " ('WAREHOUSE',),\n",
       " ('POLICE FACILITY/VEH PARKING LOT',),\n",
       " ('HOSPITAL BUILDING/GROUNDS',),\n",
       " ('FACTORY/MANUFACTURING BUILDING',),\n",
       " ('CLEANING STORE',),\n",
       " ('CTA TRAIN',),\n",
       " ('BANK',),\n",
       " ('CHA PARKING LOT/GROUNDS',),\n",
       " ('LIBRARY',),\n",
       " ('CHA HALLWAY/STAIRWELL/ELEVATOR',),\n",
       " ('COLLEGE/UNIVERSITY GROUNDS',),\n",
       " ('SCHOOL, PRIVATE, BUILDING',),\n",
       " ('CONVENIENCE STORE',),\n",
       " ('HOUSE',),\n",
       " ('GOVERNMENT BUILDING/PROPERTY',)]"
      ]
     },
     "execution_count": 23,
     "metadata": {},
     "output_type": "execute_result"
    }
   ],
   "source": [
    "%sql SELECT DISTINCT(LOCATION_DESCRIPTION) FROM CRIME"
   ]
  },
  {
   "cell_type": "code",
   "execution_count": 24,
   "id": "c536d1f2-e2ba-4530-9456-4b6c755bda9f",
   "metadata": {},
   "outputs": [
    {
     "name": "stdout",
     "output_type": "stream",
     "text": [
      " * sqlite:///FINALDB.db\n",
      "Done.\n"
     ]
    },
    {
     "data": {
      "text/html": [
       "<table>\n",
       "    <tr>\n",
       "        <th>PRIMARY_TYPE</th>\n",
       "    </tr>\n",
       "    <tr>\n",
       "        <td>BATTERY</td>\n",
       "    </tr>\n",
       "    <tr>\n",
       "        <td>CRIMINAL DAMAGE</td>\n",
       "    </tr>\n",
       "    <tr>\n",
       "        <td>NARCOTICS</td>\n",
       "    </tr>\n",
       "    <tr>\n",
       "        <td>ASSAULT</td>\n",
       "    </tr>\n",
       "    <tr>\n",
       "        <td>CRIMINAL TRESPASS</td>\n",
       "    </tr>\n",
       "    <tr>\n",
       "        <td>PUBLIC PEACE VIOLATION</td>\n",
       "    </tr>\n",
       "</table>"
      ],
      "text/plain": [
       "[('BATTERY',),\n",
       " ('CRIMINAL DAMAGE',),\n",
       " ('NARCOTICS',),\n",
       " ('ASSAULT',),\n",
       " ('CRIMINAL TRESPASS',),\n",
       " ('PUBLIC PEACE VIOLATION',)]"
      ]
     },
     "execution_count": 24,
     "metadata": {},
     "output_type": "execute_result"
    }
   ],
   "source": [
    "%sql SELECT DISTINCT(PRIMARY_TYPE) FROM CRIME WHERE LOCATION_DESCRIPTION LIKE '%SCHOOL%';"
   ]
  },
  {
   "cell_type": "markdown",
   "id": "cbf0e6b3-5fd2-4fa6-9a1f-aee85a6334b8",
   "metadata": {},
   "source": [
    "# Problem 6: List the average safety score for all types of schools."
   ]
  },
  {
   "cell_type": "code",
   "execution_count": 41,
   "id": "96d0d83a-dbec-4fb9-a042-222bf09cf240",
   "metadata": {},
   "outputs": [
    {
     "name": "stdout",
     "output_type": "stream",
     "text": [
      " * sqlite:///database01.db\n",
      "Done.\n"
     ]
    },
    {
     "data": {
      "text/html": [
       "<table>\n",
       "    <tr>\n",
       "        <th>Elementary, Middle, or High School</th>\n",
       "        <th>ROUND(AVG(SAFETY_SCORE), 2)</th>\n",
       "    </tr>\n",
       "    <tr>\n",
       "        <td>ES</td>\n",
       "        <td>49.52</td>\n",
       "    </tr>\n",
       "    <tr>\n",
       "        <td>HS</td>\n",
       "        <td>49.62</td>\n",
       "    </tr>\n",
       "    <tr>\n",
       "        <td>MS</td>\n",
       "        <td>48.0</td>\n",
       "    </tr>\n",
       "</table>"
      ],
      "text/plain": [
       "[('ES', 49.52), ('HS', 49.62), ('MS', 48.0)]"
      ]
     },
     "execution_count": 41,
     "metadata": {},
     "output_type": "execute_result"
    }
   ],
   "source": [
    "%sql SELECT  \"Elementary, Middle, or High School\", ROUND(AVG(SAFETY_SCORE), 2)  FROM CHICAGO_PUBLIC_SCHOOLS_DATA GROUP BY \"Elementary, Middle, or High School\""
   ]
  },
  {
   "cell_type": "markdown",
   "id": "e79330a2-4710-4d3e-84d6-45420782d154",
   "metadata": {},
   "source": [
    "# Problem 7: List 5 community areas with highest % of households below poverty line"
   ]
  },
  {
   "cell_type": "code",
   "execution_count": 42,
   "id": "a00f5b5e-7b52-44cf-bf17-98f003806055",
   "metadata": {},
   "outputs": [
    {
     "name": "stdout",
     "output_type": "stream",
     "text": [
      " * sqlite:///database01.db\n",
      "Done.\n"
     ]
    },
    {
     "data": {
      "text/html": [
       "<table>\n",
       "    <tr>\n",
       "        <th>COMMUNITY_AREA_NAME</th>\n",
       "        <th>PERCENT_HOUSEHOLDS_BELOW_POVERTY</th>\n",
       "    </tr>\n",
       "    <tr>\n",
       "        <td>Riverdale</td>\n",
       "        <td>56.5</td>\n",
       "    </tr>\n",
       "    <tr>\n",
       "        <td>Fuller Park</td>\n",
       "        <td>51.2</td>\n",
       "    </tr>\n",
       "    <tr>\n",
       "        <td>Englewood</td>\n",
       "        <td>46.6</td>\n",
       "    </tr>\n",
       "    <tr>\n",
       "        <td>North Lawndale</td>\n",
       "        <td>43.1</td>\n",
       "    </tr>\n",
       "    <tr>\n",
       "        <td>East Garfield Park</td>\n",
       "        <td>42.4</td>\n",
       "    </tr>\n",
       "</table>"
      ],
      "text/plain": [
       "[('Riverdale', 56.5),\n",
       " ('Fuller Park', 51.2),\n",
       " ('Englewood', 46.6),\n",
       " ('North Lawndale', 43.1),\n",
       " ('East Garfield Park', 42.4)]"
      ]
     },
     "execution_count": 42,
     "metadata": {},
     "output_type": "execute_result"
    }
   ],
   "source": [
    "%sql SELECT COMMUNITY_AREA_NAME, PERCENT_HOUSEHOLDS_BELOW_POVERTY FROM CENSUS_DATA ORDER BY PERCENT_HOUSEHOLDS_BELOW_POVERTY DESC LIMIT 5"
   ]
  },
  {
   "cell_type": "markdown",
   "id": "701429be-5af3-4456-91d0-17a4dd57b7cc",
   "metadata": {},
   "source": [
    "# Problem 8: Which community area(number) is most crime prone?"
   ]
  },
  {
   "cell_type": "code",
   "execution_count": 43,
   "id": "3932f9e6-330d-4af5-8b31-b72efae8766f",
   "metadata": {},
   "outputs": [
    {
     "name": "stdout",
     "output_type": "stream",
     "text": [
      " * sqlite:///database01.db\n",
      "Done.\n"
     ]
    },
    {
     "data": {
      "text/html": [
       "<table>\n",
       "    <tr>\n",
       "        <th>COMMUNITY_AREA_NUMBER</th>\n",
       "        <th>COUNT(COMMUNITY_AREA_NUMBER)</th>\n",
       "    </tr>\n",
       "    <tr>\n",
       "        <td>25.0</td>\n",
       "        <td>43</td>\n",
       "    </tr>\n",
       "    <tr>\n",
       "        <td>23.0</td>\n",
       "        <td>22</td>\n",
       "    </tr>\n",
       "    <tr>\n",
       "        <td>68.0</td>\n",
       "        <td>21</td>\n",
       "    </tr>\n",
       "</table>"
      ],
      "text/plain": [
       "[(25.0, 43), (23.0, 22), (68.0, 21)]"
      ]
     },
     "execution_count": 43,
     "metadata": {},
     "output_type": "execute_result"
    }
   ],
   "source": [
    "%sql SELECT COMMUNITY_AREA_NUMBER,COUNT(COMMUNITY_AREA_NUMBER) FROM CHICAGO_CRIME_DATA GROUP BY COMMUNITY_AREA_NUMBER ORDER BY COUNT(COMMUNITY_AREA_NUMBER) DESC LIMIT 3"
   ]
  },
  {
   "cell_type": "code",
   "execution_count": 44,
   "id": "7187647c-04c6-46d3-a9a8-3c4838219a81",
   "metadata": {},
   "outputs": [
    {
     "name": "stdout",
     "output_type": "stream",
     "text": [
      " * sqlite:///database01.db\n",
      "Done.\n"
     ]
    },
    {
     "data": {
      "text/html": [
       "<table>\n",
       "    <tr>\n",
       "        <th>COMMUNITY_AREA_NAME</th>\n",
       "        <th>COMMUNITY_AREA_NUMBER</th>\n",
       "        <th>COMMUNITY_AREA_NUMBER_1</th>\n",
       "    </tr>\n",
       "    <tr>\n",
       "        <td>Austin</td>\n",
       "        <td>25.0</td>\n",
       "        <td>25.0</td>\n",
       "    </tr>\n",
       "</table>"
      ],
      "text/plain": [
       "[('Austin', 25.0, 25.0)]"
      ]
     },
     "execution_count": 44,
     "metadata": {},
     "output_type": "execute_result"
    }
   ],
   "source": [
    "%%sql\n",
    "SELECT DISTINCT(COMMUNITY_AREA_NAME),CS.COMMUNITY_AREA_NUMBER,CR.COMMUNITY_AREA_NUMBER FROM CENSUS_DATA CS, CHICAGO_CRIME_DATA CR \n",
    "WHERE CS.COMMUNITY_AREA_NUMBER = CR.COMMUNITY_AREA_NUMBER \n",
    "AND CR.COMMUNITY_AREA_NUMBER = 25.0"
   ]
  },
  {
   "cell_type": "markdown",
   "id": "03a7821f-12be-44d7-9a76-9638660bb967",
   "metadata": {},
   "source": [
    "# Problem 9: Use a sub-query to find the name of the community area with highest hardship index."
   ]
  },
  {
   "cell_type": "code",
   "execution_count": 45,
   "id": "dc4154a2-9a12-45af-a361-9d72ac47edc9",
   "metadata": {},
   "outputs": [
    {
     "name": "stdout",
     "output_type": "stream",
     "text": [
      " * sqlite:///database01.db\n",
      "Done.\n"
     ]
    },
    {
     "data": {
      "text/html": [
       "<table>\n",
       "    <tr>\n",
       "        <th>COMMUNITY_AREA_NAME</th>\n",
       "    </tr>\n",
       "    <tr>\n",
       "        <td>Riverdale</td>\n",
       "    </tr>\n",
       "</table>"
      ],
      "text/plain": [
       "[('Riverdale',)]"
      ]
     },
     "execution_count": 45,
     "metadata": {},
     "output_type": "execute_result"
    }
   ],
   "source": [
    "%sql SELECT COMMUNITY_AREA_NAME FROM CENSUS_DATA WHERE HARDSHIP_INDEX = (SELECT MAX(HARDSHIP_INDEX) FROM CENSUS_DATA)"
   ]
  },
  {
   "cell_type": "markdown",
   "id": "9b7a63fc-cb8c-4b3d-b291-d86cf7303450",
   "metadata": {},
   "source": [
    "# Problem 10: Use a sub-query to determine the Community Area Name with most number of crimes?"
   ]
  },
  {
   "cell_type": "code",
   "execution_count": null,
   "id": "3c8dd8a0-cd72-41c7-8049-61906f0f2233",
   "metadata": {},
   "outputs": [],
   "source": [
    "SDFASADF"
   ]
  }
 ],
 "metadata": {
  "kernelspec": {
   "display_name": "Python 3 (ipykernel)",
   "language": "python",
   "name": "python3"
  },
  "language_info": {
   "codemirror_mode": {
    "name": "ipython",
    "version": 3
   },
   "file_extension": ".py",
   "mimetype": "text/x-python",
   "name": "python",
   "nbconvert_exporter": "python",
   "pygments_lexer": "ipython3",
   "version": "3.9.12"
  }
 },
 "nbformat": 4,
 "nbformat_minor": 5
}
