{
 "cells": [
  {
   "cell_type": "code",
   "execution_count": 41,
   "id": "ab5566c3-c7a7-4ef7-8b67-34bb6cff1370",
   "metadata": {},
   "outputs": [],
   "source": [
    "import pandas as pd \n",
    "import sqlite3"
   ]
  },
  {
   "cell_type": "code",
   "execution_count": 2,
   "id": "a6e415b0-50db-4a7c-8294-21f8a52250b5",
   "metadata": {},
   "outputs": [],
   "source": [
    "con = sqlite3.connect(\"database01.db\")\n",
    "cur = con.cursor()"
   ]
  },
  {
   "cell_type": "code",
   "execution_count": 3,
   "id": "c9719e8b-3252-4151-99ce-4d509e75eb05",
   "metadata": {},
   "outputs": [],
   "source": [
    "pd.set_option('display.max_columns', None)"
   ]
  },
  {
   "cell_type": "code",
   "execution_count": 4,
   "id": "b4103187-ab0b-4abc-95a7-cbce18bf5e0b",
   "metadata": {},
   "outputs": [],
   "source": [
    "%load_ext sql\n",
    "%sql sqlite:///database01.db"
   ]
  },
  {
   "cell_type": "code",
   "execution_count": 21,
   "id": "eba2120a-8ba4-4900-a6d8-50bbd865f189",
   "metadata": {},
   "outputs": [
    {
     "name": "stdout",
     "output_type": "stream",
     "text": [
      " * sqlite:///database01.db\n",
      "Done.\n",
      "Done.\n",
      "Done.\n",
      "Done.\n",
      "Done.\n"
     ]
    },
    {
     "data": {
      "text/plain": [
       "[]"
      ]
     },
     "execution_count": 21,
     "metadata": {},
     "output_type": "execute_result"
    }
   ],
   "source": [
    "%%sql\n",
    "DROP TABLE EMPLOYEES;\n",
    "DROP TABLE JOB_HISTORY;\n",
    "DROP TABLE JOBS;\n",
    "DROP TABLE DEPARTMENTS;\n",
    "DROP TABLE LOCATIONS;"
   ]
  },
  {
   "cell_type": "code",
   "execution_count": 24,
   "id": "62744927-ce14-4ed6-9e50-916d11865368",
   "metadata": {},
   "outputs": [
    {
     "name": "stdout",
     "output_type": "stream",
     "text": [
      " * sqlite:///database01.db\n",
      "Done.\n"
     ]
    },
    {
     "data": {
      "text/plain": [
       "[]"
      ]
     },
     "execution_count": 24,
     "metadata": {},
     "output_type": "execute_result"
    }
   ],
   "source": [
    "%%sql\n",
    "-- Create the tables\n",
    "\n",
    "CREATE TABLE EMPLOYEES (\n",
    "                          EMP_ID CHAR(9) NOT NULL,\n",
    "                          F_NAME VARCHAR(15) NOT NULL,\n",
    "                          L_NAME VARCHAR(15) NOT NULL,\n",
    "                          SSN CHAR(9),\n",
    "                          B_DATE DATE,\n",
    "                          SEX CHAR,\n",
    "                          ADDRESS VARCHAR(30),\n",
    "                          JOB_ID CHAR(9),\n",
    "                          SALARY DECIMAL(10,2),\n",
    "                          MANAGER_ID CHAR(9),\n",
    "                          DEP_ID CHAR(9) NOT NULL,\n",
    "                          PRIMARY KEY (EMP_ID)\n",
    "                        );"
   ]
  },
  {
   "cell_type": "code",
   "execution_count": 40,
   "id": "f7848f70-ae3d-48d0-8461-72987ebc1add",
   "metadata": {},
   "outputs": [
    {
     "name": "stdout",
     "output_type": "stream",
     "text": [
      " * sqlite:///database01.db\n",
      "Done.\n"
     ]
    },
    {
     "data": {
      "text/html": [
       "<table>\n",
       "    <tr>\n",
       "        <th>EMP_ID</th>\n",
       "        <th>F_NAME</th>\n",
       "        <th>L_NAME</th>\n",
       "        <th>SSN</th>\n",
       "        <th>B_DATE</th>\n",
       "        <th>SEX</th>\n",
       "        <th>ADDRESS</th>\n",
       "        <th>JOB_ID</th>\n",
       "        <th>SALARY</th>\n",
       "        <th>MANAGER_ID</th>\n",
       "        <th>DEP_ID</th>\n",
       "    </tr>\n",
       "</table>"
      ],
      "text/plain": [
       "[]"
      ]
     },
     "execution_count": 40,
     "metadata": {},
     "output_type": "execute_result"
    }
   ],
   "source": [
    "%sql select * from EMPLOYEES"
   ]
  },
  {
   "cell_type": "code",
   "execution_count": 38,
   "id": "e7f2d469-589f-47c2-a728-de64df702908",
   "metadata": {},
   "outputs": [
    {
     "name": "stdout",
     "output_type": "stream",
     "text": [
      " * sqlite:///database01.db\n",
      "(sqlite3.OperationalError) near \"BULK\": syntax error\n",
      "[SQL: BULK INSERT EMPLOYEES\n",
      "FROM 'Employees.csv'\n",
      "WITH (\n",
      "      FORMAT = 'CSV',\n",
      "      FIRSTROW = 1,\n",
      "      FIELDTERMINATOR = ',',\n",
      "      ROWTERMINATOR = '\\n',\n",
      ")]\n",
      "(Background on this error at: https://sqlalche.me/e/14/e3q8)\n"
     ]
    }
   ],
   "source": [
    "%%sql\n",
    "BULK INSERT EMPLOYEES\n",
    "FROM '/Users/macbook/Desktop/projects/Github_Repositories/IBM9_SQL/Employees.csv'\n",
    "WITH (\n",
    "      FORMAT = 'CSV',\n",
    "      FIRSTROW = 1,\n",
    "      FIELDTERMINATOR = ',',\n",
    "      ROWTERMINATOR = '\\n',\n",
    ")"
   ]
  },
  {
   "cell_type": "code",
   "execution_count": 23,
   "id": "860ff80d-c789-455e-87c0-6953393c241b",
   "metadata": {},
   "outputs": [
    {
     "name": "stdout",
     "output_type": "stream",
     "text": [
      " * sqlite:///database01.db\n",
      "(sqlite3.OperationalError) no such table: EMPLOYEES\n",
      "[SQL: select * from EMPLOYEES]\n",
      "(Background on this error at: https://sqlalche.me/e/14/e3q8)\n"
     ]
    }
   ],
   "source": [
    "%%sql\n",
    "select * from EMPLOYEES"
   ]
  },
  {
   "cell_type": "code",
   "execution_count": 19,
   "id": "6040f983-3a2c-45f5-be4b-85477ce46b6a",
   "metadata": {},
   "outputs": [
    {
     "name": "stdout",
     "output_type": "stream",
     "text": [
      " * sqlite:///database01.db\n",
      "(sqlite3.OperationalError) table EMPLOYEES already exists\n",
      "[SQL: -- Create the tables\n",
      "\n",
      "CREATE TABLE EMPLOYEES (\n",
      "                          EMP_ID CHAR(9) NOT NULL,\n",
      "                          F_NAME VARCHAR(15) NOT NULL,\n",
      "                          L_NAME VARCHAR(15) NOT NULL,\n",
      "                          SSN CHAR(9),\n",
      "                          B_DATE DATE,\n",
      "                          SEX CHAR,\n",
      "                          ADDRESS VARCHAR(30),\n",
      "                          JOB_ID CHAR(9),\n",
      "                          SALARY DECIMAL(10,2),\n",
      "                          MANAGER_ID CHAR(9),\n",
      "                          DEP_ID CHAR(9) NOT NULL,\n",
      "                          PRIMARY KEY (EMP_ID)\n",
      "                        );]\n",
      "(Background on this error at: https://sqlalche.me/e/14/e3q8)\n"
     ]
    }
   ],
   "source": [
    "%%sql\n",
    "-- Create the tables\n",
    "\n",
    "CREATE TABLE EMPLOYEES (\n",
    "                          EMP_ID CHAR(9) NOT NULL,\n",
    "                          F_NAME VARCHAR(15) NOT NULL,\n",
    "                          L_NAME VARCHAR(15) NOT NULL,\n",
    "                          SSN CHAR(9),\n",
    "                          B_DATE DATE,\n",
    "                          SEX CHAR,\n",
    "                          ADDRESS VARCHAR(30),\n",
    "                          JOB_ID CHAR(9),\n",
    "                          SALARY DECIMAL(10,2),\n",
    "                          MANAGER_ID CHAR(9),\n",
    "                          DEP_ID CHAR(9) NOT NULL,\n",
    "                          PRIMARY KEY (EMP_ID)\n",
    "                        );\n",
    "\n",
    "CREATE TABLE JOB_HISTORY (\n",
    "                            EMPL_ID CHAR(9) NOT NULL,\n",
    "                            START_DATE DATE,\n",
    "                            JOBS_ID CHAR(9) NOT NULL,\n",
    "                            DEPT_ID CHAR(9),\n",
    "                            PRIMARY KEY (EMPL_ID,JOBS_ID)\n",
    "                          );\n",
    "\n",
    "CREATE TABLE JOBS (\n",
    "                    JOB_IDENT CHAR(9) NOT NULL,\n",
    "                    JOB_TITLE VARCHAR(30) ,\n",
    "                    MIN_SALARY DECIMAL(10,2),\n",
    "                    MAX_SALARY DECIMAL(10,2),\n",
    "                    PRIMARY KEY (JOB_IDENT)\n",
    "                  );\n",
    "\n",
    "CREATE TABLE DEPARTMENTS (\n",
    "                            DEPT_ID_DEP CHAR(9) NOT NULL,\n",
    "                            DEP_NAME VARCHAR(15) ,\n",
    "                            MANAGER_ID CHAR(9),\n",
    "                            LOC_ID CHAR(9),\n",
    "                            PRIMARY KEY (DEPT_ID_DEP)\n",
    "                          );\n",
    "\n",
    "CREATE TABLE LOCATIONS (\n",
    "                          LOCT_ID CHAR(9) NOT NULL,\n",
    "                          DEP_ID_LOC CHAR(9) NOT NULL,\n",
    "                          PRIMARY KEY (LOCT_ID,DEP_ID_LOC)\n",
    "                        );"
   ]
  },
  {
   "cell_type": "code",
   "execution_count": 17,
   "id": "1cd499cc-76f1-4b4e-a1ec-7eccee45581b",
   "metadata": {},
   "outputs": [
    {
     "data": {
      "text/plain": [
       "3"
      ]
     },
     "execution_count": 17,
     "metadata": {},
     "output_type": "execute_result"
    }
   ],
   "source": [
    "df = pd.read_csv(\"/Users/macbook/Desktop/projects/Github_Repositories/IBM9_SQL/Departments.csv\", header=None)\n",
    "df.to_sql(\"DEPARTMENTS\", con, if_exists='replace', index=False,method=\"multi\")\n",
    "\n",
    "df = pd.read_csv(\"/Users/macbook/Desktop/projects/Github_Repositories/IBM9_SQL/Employees.csv\", header=None)\n",
    "df.to_sql(\"EMPLOYEES\", con, if_exists='replace', index=False,method=\"multi\")\n",
    "\n",
    "df = pd.read_csv(\"/Users/macbook/Desktop/projects/Github_Repositories/IBM9_SQL/Jobs.csv\", header=None)\n",
    "df.to_sql(\"JOBS\", con, if_exists='replace', index=False,method=\"multi\")\n",
    "\n",
    "df = pd.read_csv(\"/Users/macbook/Desktop/projects/Github_Repositories/IBM9_SQL/JobsHistory.csv\", header=None)\n",
    "df.to_sql(\"JOB_HISTORY\", con, if_exists='replace', index=False,method=\"multi\")\n",
    "\n",
    "df = pd.read_csv(\"/Users/macbook/Desktop/projects/Github_Repositories/IBM9_SQL/Locations.csv\", header=None)\n",
    "df.to_sql(\"LOCATIONS\", con, if_exists='replace', index=False,method=\"multi\")"
   ]
  },
  {
   "cell_type": "code",
   "execution_count": 20,
   "id": "677fb218-e73b-4c46-87ed-828d8017d6b2",
   "metadata": {},
   "outputs": [
    {
     "name": "stdout",
     "output_type": "stream",
     "text": [
      " * sqlite:///database01.db\n",
      "Done.\n"
     ]
    },
    {
     "data": {
      "text/html": [
       "<table>\n",
       "    <tr>\n",
       "        <th>0</th>\n",
       "        <th>1</th>\n",
       "        <th>2</th>\n",
       "        <th>3</th>\n",
       "    </tr>\n",
       "    <tr>\n",
       "        <td>2</td>\n",
       "        <td>Architect Group</td>\n",
       "        <td>30001</td>\n",
       "        <td>L0001</td>\n",
       "    </tr>\n",
       "    <tr>\n",
       "        <td>5</td>\n",
       "        <td>Software Group</td>\n",
       "        <td>30002</td>\n",
       "        <td>L0002</td>\n",
       "    </tr>\n",
       "    <tr>\n",
       "        <td>7</td>\n",
       "        <td>Design Team</td>\n",
       "        <td>30003</td>\n",
       "        <td>L0003</td>\n",
       "    </tr>\n",
       "</table>"
      ],
      "text/plain": [
       "[(2, 'Architect Group', 30001, 'L0001'),\n",
       " (5, 'Software Group', 30002, 'L0002'),\n",
       " (7, 'Design Team', 30003, 'L0003')]"
      ]
     },
     "execution_count": 20,
     "metadata": {},
     "output_type": "execute_result"
    }
   ],
   "source": [
    "%%sql\n",
    "select * from DEPARTMENTS"
   ]
  },
  {
   "cell_type": "code",
   "execution_count": null,
   "id": "d9674b25-7857-49ca-a157-26acfdba18d7",
   "metadata": {},
   "outputs": [],
   "source": []
  },
  {
   "cell_type": "code",
   "execution_count": 24,
   "id": "47dcad54-60a0-4772-ac36-ac82e10173fd",
   "metadata": {},
   "outputs": [
    {
     "data": {
      "text/html": [
       "<div>\n",
       "<style scoped>\n",
       "    .dataframe tbody tr th:only-of-type {\n",
       "        vertical-align: middle;\n",
       "    }\n",
       "\n",
       "    .dataframe tbody tr th {\n",
       "        vertical-align: top;\n",
       "    }\n",
       "\n",
       "    .dataframe thead th {\n",
       "        text-align: right;\n",
       "    }\n",
       "</style>\n",
       "<table border=\"1\" class=\"dataframe\">\n",
       "  <thead>\n",
       "    <tr style=\"text-align: right;\">\n",
       "      <th></th>\n",
       "      <th>0</th>\n",
       "      <th>1</th>\n",
       "    </tr>\n",
       "  </thead>\n",
       "  <tbody>\n",
       "    <tr>\n",
       "      <th>0</th>\n",
       "      <td>L0001</td>\n",
       "      <td>2</td>\n",
       "    </tr>\n",
       "    <tr>\n",
       "      <th>1</th>\n",
       "      <td>L0002</td>\n",
       "      <td>5</td>\n",
       "    </tr>\n",
       "    <tr>\n",
       "      <th>2</th>\n",
       "      <td>L0003</td>\n",
       "      <td>7</td>\n",
       "    </tr>\n",
       "  </tbody>\n",
       "</table>\n",
       "</div>"
      ],
      "text/plain": [
       "       0  1\n",
       "0  L0001  2\n",
       "1  L0002  5\n",
       "2  L0003  7"
      ]
     },
     "execution_count": 24,
     "metadata": {},
     "output_type": "execute_result"
    }
   ],
   "source": [
    "df = pd.read_csv(\"/Users/macbook/Desktop/projects/Github_Repositories/IBM9_SQL/Locations.csv\", header=None)\n",
    "df.head()"
   ]
  },
  {
   "cell_type": "code",
   "execution_count": null,
   "id": "4f2a829d-233b-49b6-8694-a06c87a9eb3d",
   "metadata": {},
   "outputs": [],
   "source": []
  },
  {
   "cell_type": "code",
   "execution_count": null,
   "id": "7c69f08d-ebed-4eae-b8ec-8f3cbf13d757",
   "metadata": {},
   "outputs": [],
   "source": []
  },
  {
   "cell_type": "code",
   "execution_count": null,
   "id": "b0361fb8-196f-418b-83bc-3580a6cb5db7",
   "metadata": {},
   "outputs": [],
   "source": []
  },
  {
   "cell_type": "code",
   "execution_count": null,
   "id": "7d9aa3b1-eab2-4cde-9e83-97a701a8f990",
   "metadata": {},
   "outputs": [],
   "source": []
  },
  {
   "cell_type": "code",
   "execution_count": null,
   "id": "a879c450-2139-44a0-8527-d979fe118575",
   "metadata": {},
   "outputs": [],
   "source": []
  },
  {
   "cell_type": "code",
   "execution_count": null,
   "id": "168f6514-a976-4180-95af-1ec7b3e58f57",
   "metadata": {},
   "outputs": [],
   "source": []
  },
  {
   "cell_type": "markdown",
   "id": "f91e2c4c-a491-42dc-a726-9356feb2fc7d",
   "metadata": {
    "jupyter": {
     "source_hidden": true
    },
    "tags": []
   },
   "source": [
    "# Create View"
   ]
  },
  {
   "cell_type": "code",
   "execution_count": 11,
   "id": "39707aa0-1b11-4fa3-843e-63db5cbbafd7",
   "metadata": {},
   "outputs": [
    {
     "name": "stdout",
     "output_type": "stream",
     "text": [
      " * sqlite:///database01.db\n",
      "Done.\n"
     ]
    },
    {
     "data": {
      "text/plain": [
       "[]"
      ]
     },
     "execution_count": 11,
     "metadata": {},
     "output_type": "execute_result"
    }
   ],
   "source": [
    "%%sql\n",
    "CREATE VIEW EMPSALARY AS\n",
    "SELECT EMP_ID, F_NAME, L_NAME, B_DATE, SEX, SALARY\n",
    "FROM EMPLOYEES"
   ]
  },
  {
   "cell_type": "code",
   "execution_count": 13,
   "id": "8dd2e19a-8c03-4ddb-a90c-40363482d690",
   "metadata": {},
   "outputs": [
    {
     "ename": "SyntaxError",
     "evalue": "invalid syntax (2551253063.py, line 1)",
     "output_type": "error",
     "traceback": [
      "\u001b[0;36m  Input \u001b[0;32mIn [13]\u001b[0;36m\u001b[0m\n\u001b[0;31m    SELECT * FROM EMPSALARY;\u001b[0m\n\u001b[0m                  ^\u001b[0m\n\u001b[0;31mSyntaxError\u001b[0m\u001b[0;31m:\u001b[0m invalid syntax\n"
     ]
    }
   ],
   "source": [
    "SELECT * FROM EMPSALARY;"
   ]
  },
  {
   "cell_type": "code",
   "execution_count": 14,
   "id": "3a7aa4e9-267d-4542-bd6d-e4ca8e7507b5",
   "metadata": {},
   "outputs": [
    {
     "name": "stdout",
     "output_type": "stream",
     "text": [
      " * sqlite:///database01.db\n",
      "(sqlite3.OperationalError) view EMPSALARY already exists\n",
      "[SQL: CREATE VIEW EMPSALARY AS \n",
      "SELECT EMP_ID, F_NAME, L_NAME, B_DATE, SEX, SALARY\n",
      "FROM EMPLOYEES;]\n",
      "(Background on this error at: https://sqlalche.me/e/14/e3q8)\n"
     ]
    }
   ],
   "source": []
  },
  {
   "cell_type": "code",
   "execution_count": 15,
   "id": "22e6775d-54ce-453f-8dc5-3dc58741b436",
   "metadata": {},
   "outputs": [
    {
     "name": "stdout",
     "output_type": "stream",
     "text": [
      " * sqlite:///database01.db\n",
      "(sqlite3.OperationalError) no such column: EMP_ID\n",
      "[SQL: SELECT * FROM EMPSALARY;]\n",
      "(Background on this error at: https://sqlalche.me/e/14/e3q8)\n"
     ]
    }
   ],
   "source": [
    "%%sql\n",
    "SELECT * FROM EMPSALARY;"
   ]
  },
  {
   "cell_type": "code",
   "execution_count": 16,
   "id": "f1d3aa6a-deab-42d5-a506-b3efc55329b3",
   "metadata": {},
   "outputs": [
    {
     "name": "stdout",
     "output_type": "stream",
     "text": [
      " * sqlite:///database01.db\n",
      "Done.\n"
     ]
    },
    {
     "data": {
      "text/html": [
       "<table>\n",
       "    <tr>\n",
       "        <th>E1001</th>\n",
       "        <th>John</th>\n",
       "        <th>Thomas</th>\n",
       "        <th>123456</th>\n",
       "        <th>01/09/1976</th>\n",
       "        <th>M</th>\n",
       "        <th>5631 Rice, OakPark,IL</th>\n",
       "        <th>100</th>\n",
       "        <th>100000</th>\n",
       "        <th>30001</th>\n",
       "        <th>2</th>\n",
       "    </tr>\n",
       "    <tr>\n",
       "        <td>E1002</td>\n",
       "        <td>Alice</td>\n",
       "        <td>James</td>\n",
       "        <td>123457</td>\n",
       "        <td>07/31/1972</td>\n",
       "        <td>F</td>\n",
       "        <td>980 Berry ln, Elgin,IL</td>\n",
       "        <td>200</td>\n",
       "        <td>80000</td>\n",
       "        <td>30002</td>\n",
       "        <td>5</td>\n",
       "    </tr>\n",
       "    <tr>\n",
       "        <td>E1003</td>\n",
       "        <td>Steve</td>\n",
       "        <td>Wells</td>\n",
       "        <td>123458</td>\n",
       "        <td>08/10/1980</td>\n",
       "        <td>M</td>\n",
       "        <td>291 Springs, Gary,IL</td>\n",
       "        <td>300</td>\n",
       "        <td>50000</td>\n",
       "        <td>30002</td>\n",
       "        <td>5</td>\n",
       "    </tr>\n",
       "    <tr>\n",
       "        <td>E1004</td>\n",
       "        <td>Santosh</td>\n",
       "        <td>Kumar</td>\n",
       "        <td>123459</td>\n",
       "        <td>07/20/1985</td>\n",
       "        <td>M</td>\n",
       "        <td>511 Aurora Av, Aurora,IL</td>\n",
       "        <td>400</td>\n",
       "        <td>60000</td>\n",
       "        <td>30004</td>\n",
       "        <td>5</td>\n",
       "    </tr>\n",
       "    <tr>\n",
       "        <td>E1005</td>\n",
       "        <td>Ahmed</td>\n",
       "        <td>Hussain</td>\n",
       "        <td>123410</td>\n",
       "        <td>01/04/1981</td>\n",
       "        <td>M</td>\n",
       "        <td>216 Oak Tree, Geneva,IL</td>\n",
       "        <td>500</td>\n",
       "        <td>70000</td>\n",
       "        <td>30001</td>\n",
       "        <td>2</td>\n",
       "    </tr>\n",
       "    <tr>\n",
       "        <td>E1006</td>\n",
       "        <td>Nancy</td>\n",
       "        <td>Allen</td>\n",
       "        <td>123411</td>\n",
       "        <td>02/06/1978</td>\n",
       "        <td>F</td>\n",
       "        <td>111 Green Pl, Elgin,IL</td>\n",
       "        <td>600</td>\n",
       "        <td>90000</td>\n",
       "        <td>30001</td>\n",
       "        <td>2</td>\n",
       "    </tr>\n",
       "    <tr>\n",
       "        <td>E1007</td>\n",
       "        <td>Mary</td>\n",
       "        <td>Thomas</td>\n",
       "        <td>123412</td>\n",
       "        <td>05/05/1975</td>\n",
       "        <td>F</td>\n",
       "        <td>100 Rose Pl, Gary,IL</td>\n",
       "        <td>650</td>\n",
       "        <td>65000</td>\n",
       "        <td>30003</td>\n",
       "        <td>7</td>\n",
       "    </tr>\n",
       "    <tr>\n",
       "        <td>E1008</td>\n",
       "        <td>Bharath</td>\n",
       "        <td>Gupta</td>\n",
       "        <td>123413</td>\n",
       "        <td>05/06/1985</td>\n",
       "        <td>M</td>\n",
       "        <td>145 Berry Ln, Naperville,IL</td>\n",
       "        <td>660</td>\n",
       "        <td>65000</td>\n",
       "        <td>30003</td>\n",
       "        <td>7</td>\n",
       "    </tr>\n",
       "    <tr>\n",
       "        <td>E1009</td>\n",
       "        <td>Andrea</td>\n",
       "        <td>Jones</td>\n",
       "        <td>123414</td>\n",
       "        <td>07/09/1990</td>\n",
       "        <td>F</td>\n",
       "        <td>120 Fall Creek, Gary,IL</td>\n",
       "        <td>234</td>\n",
       "        <td>70000</td>\n",
       "        <td>30003</td>\n",
       "        <td>7</td>\n",
       "    </tr>\n",
       "    <tr>\n",
       "        <td>E1010</td>\n",
       "        <td>Ann</td>\n",
       "        <td>Jacob</td>\n",
       "        <td>123415</td>\n",
       "        <td>03/30/1982</td>\n",
       "        <td>F</td>\n",
       "        <td>111 Britany Springs,Elgin,IL</td>\n",
       "        <td>220</td>\n",
       "        <td>70000</td>\n",
       "        <td>30004</td>\n",
       "        <td>5</td>\n",
       "    </tr>\n",
       "</table>"
      ],
      "text/plain": [
       "[('E1002', 'Alice', 'James', 123457, '07/31/1972', 'F', '980 Berry ln, Elgin,IL', 200, 80000, 30002, 5),\n",
       " ('E1003', 'Steve', 'Wells', 123458, '08/10/1980', 'M', '291 Springs, Gary,IL', 300, 50000, 30002, 5),\n",
       " ('E1004', 'Santosh', 'Kumar', 123459, '07/20/1985', 'M', '511 Aurora Av, Aurora,IL', 400, 60000, 30004, 5),\n",
       " ('E1005', 'Ahmed', 'Hussain', 123410, '01/04/1981', 'M', '216 Oak Tree, Geneva,IL', 500, 70000, 30001, 2),\n",
       " ('E1006', 'Nancy', 'Allen', 123411, '02/06/1978', 'F', '111 Green Pl, Elgin,IL', 600, 90000, 30001, 2),\n",
       " ('E1007', 'Mary', 'Thomas', 123412, '05/05/1975', 'F', '100 Rose Pl, Gary,IL', 650, 65000, 30003, 7),\n",
       " ('E1008', 'Bharath', 'Gupta', 123413, '05/06/1985', 'M', '145 Berry Ln, Naperville,IL', 660, 65000, 30003, 7),\n",
       " ('E1009', 'Andrea', 'Jones', 123414, '07/09/1990', 'F', '120 Fall Creek, Gary,IL', 234, 70000, 30003, 7),\n",
       " ('E1010', 'Ann', 'Jacob', 123415, '03/30/1982', 'F', '111 Britany Springs,Elgin,IL', 220, 70000, 30004, 5)]"
      ]
     },
     "execution_count": 16,
     "metadata": {},
     "output_type": "execute_result"
    }
   ],
   "source": [
    "%%sql\n",
    "select * \n",
    "from Employees"
   ]
  },
  {
   "cell_type": "code",
   "execution_count": null,
   "id": "e69f506b-a0e8-4659-b6a3-7f1240aa2c8a",
   "metadata": {},
   "outputs": [],
   "source": []
  }
 ],
 "metadata": {
  "kernelspec": {
   "display_name": "Python 3 (ipykernel)",
   "language": "python",
   "name": "python3"
  },
  "language_info": {
   "codemirror_mode": {
    "name": "ipython",
    "version": 3
   },
   "file_extension": ".py",
   "mimetype": "text/x-python",
   "name": "python",
   "nbconvert_exporter": "python",
   "pygments_lexer": "ipython3",
   "version": "3.9.12"
  }
 },
 "nbformat": 4,
 "nbformat_minor": 5
}
