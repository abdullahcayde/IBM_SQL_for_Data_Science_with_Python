{
 "cells": [
  {
   "cell_type": "code",
   "execution_count": 1,
   "id": "0e5c6d9e-a5de-4086-a119-502d6c0f0ad5",
   "metadata": {},
   "outputs": [],
   "source": [
    "import pandas as pd \n",
    "import sqlite3"
   ]
  },
  {
   "cell_type": "code",
   "execution_count": 2,
   "id": "20c593ee-4679-45ca-9b1a-72c8343c2a63",
   "metadata": {},
   "outputs": [],
   "source": [
    "con = sqlite3.connect(\"database01\")\n",
    "cur = con.cursor()"
   ]
  },
  {
   "cell_type": "code",
   "execution_count": 3,
   "id": "921426cb-594a-4673-b2c1-7d04b05af01a",
   "metadata": {},
   "outputs": [],
   "source": [
    "%load_ext sql"
   ]
  },
  {
   "cell_type": "code",
   "execution_count": 4,
   "id": "0fc79367-6658-432a-9b2f-2a01f8c1b5eb",
   "metadata": {},
   "outputs": [],
   "source": [
    "%sql sqlite:///database01.db"
   ]
  },
  {
   "cell_type": "code",
   "execution_count": null,
   "id": "446ab3bc-808a-410a-b4f8-74a0193af6bf",
   "metadata": {},
   "outputs": [],
   "source": [
    "df = pd.read_csv(\"/Users/macbook/Desktop/projects/Github_Repositories/IBM9_SQL/XXXXXXXX.csv\")\n",
    "df.to_sql(\"Table_name\", con, if_exists='replace', index=False,method=\"multi\")"
   ]
  },
  {
   "cell_type": "code",
   "execution_count": null,
   "id": "114e320a-491a-4428-a413-472d0358fc26",
   "metadata": {},
   "outputs": [],
   "source": [
    "df = pd.read_csv(\"/Users/macbook/Desktop/projects/Github_Repositories/IBM9_SQL/XXXXXXXX.csv\")\n",
    "df.to_sql(\"Table_name\", con, if_exists='replace', index=False,method=\"multi\")"
   ]
  },
  {
   "cell_type": "code",
   "execution_count": null,
   "id": "b47da72f-36bd-48a7-bbbc-cccae72e63ec",
   "metadata": {},
   "outputs": [],
   "source": [
    "%%sql\n",
    "select * #outer query / main query \n",
    "from employee\n",
    "where salary salary> (select avg(salary) from employee) # subquery / inner query"
   ]
  },
  {
   "cell_type": "raw",
   "id": "cd92c03f-0872-483d-8b71-e0c54cf08e88",
   "metadata": {},
   "source": [
    "SCALAR SUBQUERY\n",
    "MULTIPLE ROW SBBQUERY\n",
    "CORRELATED SUBQUERY"
   ]
  },
  {
   "cell_type": "code",
   "execution_count": null,
   "id": "b474cfb9-6edb-42a5-bb2f-b6e51872fa5a",
   "metadata": {},
   "outputs": [],
   "source": [
    "# Scalary Subquery\n",
    "# it always return 1 row and 1 query\n",
    "select *\n",
    "from employee\n",
    "where salary > (select avg(salary) from employee\n"
   ]
  }
 ],
 "metadata": {
  "kernelspec": {
   "display_name": "Python 3 (ipykernel)",
   "language": "python",
   "name": "python3"
  },
  "language_info": {
   "codemirror_mode": {
    "name": "ipython",
    "version": 3
   },
   "file_extension": ".py",
   "mimetype": "text/x-python",
   "name": "python",
   "nbconvert_exporter": "python",
   "pygments_lexer": "ipython3",
   "version": "3.9.12"
  }
 },
 "nbformat": 4,
 "nbformat_minor": 5
}
